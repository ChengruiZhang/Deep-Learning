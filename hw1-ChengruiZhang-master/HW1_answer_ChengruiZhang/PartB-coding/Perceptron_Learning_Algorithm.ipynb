{
 "cells": [
  {
   "cell_type": "markdown",
   "metadata": {},
   "source": [
    "# Perceptron Learning Algorithm\n",
    "\n",
    "The perceptron is a simple supervised machine learning algorithm and one of the earliest neural network architectures. It was introduced by Rosenblatt in the late 1950s. A perceptron represents a binary linear classifier that maps a set of training examples (of $d$ dimensional input vectors) onto binary output values using a $d-1$ dimensional hyperplane. But Today, we will implement **Multi-Classes Perceptron Learning Algorithm** \n",
    "**Given:**\n",
    "* dataset $\\{(x^i, y^i)\\}$, $i \\in (1, M)$\n",
    "* $x^i$ is $d$ dimension vector, $x^i = (x^i_1, \\dots x^i_d)$\n",
    "* $y^i$ is multi-class target varible $y^i \\in \\{0,1,2\\}$\n",
    "\n",
    "A perceptron is trained using gradient descent. The training algorithm has different steps. In the beginning (step 0) the model parameters are initialized. The other steps (see below) are repeated for a specified number of training iterations or until the parameters have converged.\n",
    "\n",
    "**Step0:** Initial the weight vector and bias with zeros     \n",
    "**Step1:** Compute the linear combination of the input features and weight. $y^i_{pred} = argmax_k W_k*x^i + b$    \n",
    "**Step2:** Compute the gradients for parameters $W_k$, $b$. **Derive the parameter update equation Here(5 points)**   \n",
    "\n",
    "##################################     \n",
    "TODO: Derive you answer hear\n",
    "When we want to compute the gradients of $W$, $b$.\n",
    "Suppose that the $W_k$ is the max.\n",
    "Suppose the loss function is \n",
    "* $L(W,b)=-sum(y^i*I[mistake~on~x])$\n",
    "\n",
    "Therefore, if there is no mistake, $L=0$, and we don't change $W,b$,\n",
    "otherwise,\n",
    "* $\\partial{L}/\\partial{W} = -\\partial{(W*x^{i}+b)}/\\partial{W} = -x^i$\n",
    "* $\\partial{L}/\\partial{b} = -\\partial{(W*x^{i}+b)}/\\partial{b} = -I$ \n",
    "\n",
    "Therefore, if the answer is k while our prediction dosen't match,\n",
    "* $W^i_{t+1} = W^i_{t} + lr*x^i, i=k$\n",
    "* $W^i_{t+1} = W^i_{t} - lr*x^i, i!=k$\n",
    "* $b^i_{t+1} = b^i_{t} + lr*I, i=k$\n",
    "* $b^i_{t+1} = b^i_{t} - lr*I, i!=k$\n",
    "\n",
    "#################################\n",
    "                              \n",
    "                        "
   ]
  },
  {
   "cell_type": "code",
   "execution_count": 1,
   "metadata": {},
   "outputs": [],
   "source": [
    "from sklearn import datasets\n",
    "import numpy as np\n",
    "from sklearn.model_selection import train_test_split\n",
    "import matplotlib.pyplot as plt\n",
    "import random\n",
    "\n",
    "np.random.seed(0)\n",
    "random.seed(0)"
   ]
  },
  {
   "cell_type": "code",
   "execution_count": 2,
   "metadata": {},
   "outputs": [
    {
     "name": "stdout",
     "output_type": "stream",
     "text": [
      "<class 'numpy.ndarray'>\n",
      "X_Shape: (150, 4)\n",
      "y_Shape: (150,)\n",
      "Label Space: [0 1 2]\n"
     ]
    }
   ],
   "source": [
    "iris = datasets.load_iris()\n",
    "X = iris.data\n",
    "print(type(X))\n",
    "y = iris.target\n",
    "y = np.array(y)\n",
    "print('X_Shape:', X.shape)\n",
    "print('y_Shape:', y.shape)\n",
    "print('Label Space:', np.unique(y))"
   ]
  },
  {
   "cell_type": "code",
   "execution_count": 3,
   "metadata": {},
   "outputs": [
    {
     "name": "stdout",
     "output_type": "stream",
     "text": [
      "X_train_Shape: (105, 4)\n",
      "X_test_Shape: (45, 4)\n",
      "y_train_Shape: (105,)\n",
      "y_test_Shape: (45,)\n",
      "<class 'numpy.ndarray'>\n"
     ]
    }
   ],
   "source": [
    "## split the training set and test set\n",
    "X_train,X_test,y_train,y_test=train_test_split(X,y,test_size=0.3, random_state=0)\n",
    "print('X_train_Shape:', X_train.shape)\n",
    "print('X_test_Shape:',  X_test.shape)\n",
    "print('y_train_Shape:', y_train.shape)\n",
    "print('y_test_Shape:',  y_test.shape)\n",
    "print(type(y_train))"
   ]
  },
  {
   "cell_type": "code",
   "execution_count": 4,
   "metadata": {},
   "outputs": [],
   "source": [
    "class MultiClsPLA(object):\n",
    "    \n",
    "    ## We recommend to absorb the bias into weight.  W = [w, b]\n",
    "    \n",
    "    def __init__(self, X_train, y_train, X_test, y_test, lr, num_epoch, weight_dimension, num_cls):\n",
    "        super(MultiClsPLA, self).__init__()\n",
    "        self.X_train = X_train\n",
    "        self.y_train = y_train\n",
    "        self.X_test = X_test\n",
    "        self.y_test = y_test\n",
    "        self.unique = np.unique(y_train)\n",
    "        self.weight = self.initial_weight(weight_dimension, num_cls) #\n",
    "        self.sample_mean = np.mean(self.X_train, 0) # vector\n",
    "        self.sample_std = np.std(self.X_train, 0) # vector\n",
    "        self.num_epoch = num_epoch\n",
    "        self.lr = lr\n",
    "        self.total_acc_train = []\n",
    "        self.total_acc_tst = []\n",
    "          \n",
    "    def initial_weight(self, weight_dimension, num_cls):\n",
    "        weight = None\n",
    "        #########################################\n",
    "        ##  ToDO: Initialize the weight with   ##\n",
    "        ##  samll std and zero mean gaussian   ##\n",
    "        weight = np.random.randn(weight_dimension + 1, num_cls) # (n+1) * m\n",
    "        #########################################\n",
    "        return weight\n",
    "        \n",
    "    def data_preprocessing(self, data): # normlize input data\n",
    "        #####################################\n",
    "        ##  ToDO: Normlize the data        ##\n",
    "        norm_data = (data-self.sample_mean)/self.sample_std\n",
    "        #####################################\n",
    "        return norm_data\n",
    "    \n",
    "    def train_step(self, X_train, y_train, shuffle_idx):\n",
    "        np.random.shuffle(shuffle_idx) # shuffle the idx\n",
    "        X_train = X_train[shuffle_idx] # drawbacks -- add : np.array\n",
    "        y_train = y_train[shuffle_idx]\n",
    "        train_acc = None\n",
    "        ##############################################\n",
    "        ## TODO: to implement the training process  ##\n",
    "        ## and update the weights                   ##\n",
    "        out_put = np.matmul(X_train, self.weight) # out_put num_sample * m\n",
    "        pre = np.argmax(out_put, axis=1) # prediction numsample * 1\n",
    "        for i in range(len(pre)):\n",
    "            if pre[i] != y_train[i]:\n",
    "                change = self.lr * X_train[i] # change 1 * (n+1)\n",
    "                for j in range(len(self.unique)):\n",
    "                    if j != y_train[i]:\n",
    "                        self.weight[:, j] = self.weight[:, j] - change\n",
    "                    else:\n",
    "                        self.weight[:, j] = self.weight[:, j] + change \n",
    "        out_put = np.matmul(X_train, self.weight) # out_put num_sample * m\n",
    "        pre = np.argmax(out_put, axis=1) # prediction numsample * 1\n",
    "        train_acc = np.sum((pre - y_train) == 0) / len(y_train)\n",
    "        ##############################################\n",
    "        \n",
    "        return train_acc\n",
    "        \n",
    "    def test_step(self, X_test, y_test):\n",
    "        \n",
    "        X_test = self.data_preprocessing(data=X_test)\n",
    "        num_sample = X_test.shape[0]\n",
    "        test_acc = None\n",
    "        \n",
    "        #########################################\n",
    "        ##  ToDO: Evaluate the test set and    ##\n",
    "        ##  return the test acc                ##\n",
    "        X_test = np.c_[X_test, np.ones((num_sample,1))]\n",
    "        out_put = np.matmul(X_test, self.weight) # out_put num_sample * m\n",
    "        pre = np.argmax(out_put, axis=1) # prediction numsample * 1\n",
    "        test_acc = np.sum((pre - y_test) == 0) / num_sample\n",
    "        #########################################\n",
    "           \n",
    "        return test_acc\n",
    "        \n",
    "    def train(self):\n",
    "           \n",
    "        self.X_train = self.data_preprocessing(data=self.X_train)\n",
    "        num_sample = self.X_train.shape[0]\n",
    "        \n",
    "        ######################################################\n",
    "        ### TODO: In order to absorb the bias into weights ###\n",
    "        ###  we need to modify the input data.             ###\n",
    "        ###  So You need to transform the input data       ###\n",
    "        self.X_train = np.c_[self.X_train, np.ones((num_sample,1))] # num_sample * (n+1)\n",
    "        ######################################################\n",
    "        \n",
    "        shuffle_index = np.array(range(0, num_sample))\n",
    "        for epoch in range(self.num_epoch):\n",
    "            training_acc = self.train_step(X_train=self.X_train, y_train=self.y_train, shuffle_idx=shuffle_index)\n",
    "            tst_acc = self.test_step(X_test=self.X_test,  y_test=self.y_test)\n",
    "            self.total_acc_train.append(training_acc)\n",
    "            self.total_acc_tst.append(tst_acc)\n",
    "            print('epoch:', epoch, 'traing_acc:%.3f'%training_acc, 'tst_acc:%.3f'%tst_acc)\n",
    "    \n",
    "    def vis_acc_curve(self):\n",
    "        train_acc = np.array(self.total_acc_train)\n",
    "        tst_acc = np.array(self.total_acc_tst)\n",
    "        plt.plot(train_acc)\n",
    "        plt.plot(tst_acc)\n",
    "        plt.legend(['train_acc', 'tst_acc'])\n",
    "        plt.show(0)"
   ]
  },
  {
   "cell_type": "code",
   "execution_count": 5,
   "metadata": {},
   "outputs": [
    {
     "name": "stdout",
     "output_type": "stream",
     "text": [
      "epoch: 0 traing_acc:0.714 tst_acc:0.600\n",
      "epoch: 1 traing_acc:0.857 tst_acc:0.800\n",
      "epoch: 2 traing_acc:0.924 tst_acc:0.911\n",
      "epoch: 3 traing_acc:0.914 tst_acc:0.933\n",
      "epoch: 4 traing_acc:0.924 tst_acc:0.978\n",
      "epoch: 5 traing_acc:0.933 tst_acc:0.978\n",
      "epoch: 6 traing_acc:0.952 tst_acc:0.978\n",
      "epoch: 7 traing_acc:0.943 tst_acc:0.978\n",
      "epoch: 8 traing_acc:0.952 tst_acc:0.978\n",
      "epoch: 9 traing_acc:0.962 tst_acc:0.978\n",
      "epoch: 10 traing_acc:0.952 tst_acc:0.978\n",
      "epoch: 11 traing_acc:0.962 tst_acc:0.956\n",
      "epoch: 12 traing_acc:0.971 tst_acc:0.978\n",
      "epoch: 13 traing_acc:0.962 tst_acc:0.956\n",
      "epoch: 14 traing_acc:0.971 tst_acc:0.978\n",
      "epoch: 15 traing_acc:0.971 tst_acc:0.978\n",
      "epoch: 16 traing_acc:0.981 tst_acc:0.978\n",
      "epoch: 17 traing_acc:0.962 tst_acc:0.956\n",
      "epoch: 18 traing_acc:0.971 tst_acc:0.978\n",
      "epoch: 19 traing_acc:0.952 tst_acc:0.956\n",
      "epoch: 20 traing_acc:0.971 tst_acc:0.978\n",
      "epoch: 21 traing_acc:0.952 tst_acc:0.956\n",
      "epoch: 22 traing_acc:0.981 tst_acc:0.978\n",
      "epoch: 23 traing_acc:0.962 tst_acc:0.956\n",
      "epoch: 24 traing_acc:0.962 tst_acc:0.978\n",
      "epoch: 25 traing_acc:0.962 tst_acc:0.956\n",
      "epoch: 26 traing_acc:0.981 tst_acc:0.978\n",
      "epoch: 27 traing_acc:0.962 tst_acc:0.956\n",
      "epoch: 28 traing_acc:0.990 tst_acc:0.978\n",
      "epoch: 29 traing_acc:0.971 tst_acc:0.978\n"
     ]
    },
    {
     "data": {
      "image/png": "[encoded data removed]",
      "text/plain": [
       "<Figure size 432x288 with 1 Axes>"
      ]
     },
     "metadata": {
      "needs_background": "light"
     },
     "output_type": "display_data"
    },
    {
     "data": {
      "image/png": "[encoded data removed]",
      "text/plain": [
       "<Figure size 432x288 with 1 Axes>"
      ]
     },
     "metadata": {
      "needs_background": "light"
     },
     "output_type": "display_data"
    }
   ],
   "source": [
    "np.random.seed(0)\n",
    "random.seed(0)\n",
    "#######################################################\n",
    "### TODO: \n",
    "### 1. You need to import the model and pass some parameters. \n",
    "### 2. Then training the model with some epoches.\n",
    "### 3. Visualize the training acc and test acc verus epoches\n",
    "model = MultiClsPLA(X_train, y_train, X_test, y_test, lr=0.02, num_epoch=30, weight_dimension=4, num_cls=3)\n",
    "model.train()\n",
    "model.vis_acc_curve()"
   ]
  },
  {
   "cell_type": "code",
   "execution_count": null,
   "metadata": {},
   "outputs": [],
   "source": []
  }
 ],
 "metadata": {
  "kernelspec": {
   "display_name": "Python 3",
   "language": "python",
   "name": "python3"
  },
  "language_info": {
   "codemirror_mode": {
    "name": "ipython",
    "version": 3
   },
   "file_extension": ".py",
   "mimetype": "text/x-python",
   "name": "python",
   "nbconvert_exporter": "python",
   "pygments_lexer": "ipython3",
   "version": "3.7.4"
  }
 },
 "nbformat": 4,
 "nbformat_minor": 2
}
