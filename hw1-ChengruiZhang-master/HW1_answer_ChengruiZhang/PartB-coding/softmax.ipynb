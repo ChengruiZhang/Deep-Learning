{
 "cells": [
  {
   "cell_type": "markdown",
   "metadata": {},
   "source": [
    "# Softmax exercise\n",
    "\n",
    "*Complete and hand in this completed worksheet (including its outputs and any supporting code outside of the worksheet) with your assignment submission. For more details see the [assignments page](http://vision.stanford.edu/teaching/cs231n/assignments.html) on the course website.*\n",
    "\n",
    "This exercise is analogous to the SVM exercise. You will:\n",
    "\n",
    "- implement a fully-vectorized **loss function** for the Softmax classifier\n",
    "- implement the fully-vectorized expression for its **analytic gradient**\n",
    "- **check your implementation** with numerical gradient\n",
    "- use a validation set to **tune the learning rate and regularization** strength\n",
    "- **optimize** the loss function with **SGD**\n",
    "- **visualize** the final learned weights\n"
   ]
  },
  {
   "cell_type": "code",
   "execution_count": 1,
   "metadata": {},
   "outputs": [],
   "source": [
    "from __future__ import print_function\n",
    "\n",
    "import random\n",
    "import numpy as np\n",
    "from cs231n.data_utils import load_CIFAR10\n",
    "import matplotlib.pyplot as plt\n",
    "\n",
    "%matplotlib inline\n",
    "plt.rcParams['figure.figsize'] = (10.0, 8.0) # set default size of plots\n",
    "plt.rcParams['image.interpolation'] = 'nearest'\n",
    "plt.rcParams['image.cmap'] = 'gray'\n",
    "\n",
    "# for auto-reloading extenrnal modules\n",
    "# see http://stackoverflow.com/questions/1907993/autoreload-of-modules-in-ipython\n",
    "%load_ext autoreload\n",
    "%autoreload 2"
   ]
  },
  {
   "cell_type": "code",
   "execution_count": 2,
   "metadata": {},
   "outputs": [
    {
     "name": "stdout",
     "output_type": "stream",
     "text": [
      "Train data shape:  (49000, 3073)\n",
      "Train labels shape:  (49000,)\n",
      "Validation data shape:  (1000, 3073)\n",
      "Validation labels shape:  (1000,)\n",
      "Test data shape:  (1000, 3073)\n",
      "Test labels shape:  (1000,)\n",
      "dev data shape:  (500, 3073)\n",
      "dev labels shape:  (500,)\n"
     ]
    }
   ],
   "source": [
    "def get_CIFAR10_data(num_training=49000, num_validation=1000, num_test=1000, num_dev=500):\n",
    "    \"\"\"\n",
    "    Load the CIFAR-10 dataset from disk and perform preprocessing to prepare\n",
    "    it for the linear classifier. These are the same steps as we used for the\n",
    "    SVM, but condensed to a single function.  \n",
    "    \"\"\"\n",
    "    # Load the raw CIFAR-10 data\n",
    "    cifar10_dir = 'cs231n/datasets/cifar-10-batches-py'\n",
    "    \n",
    "    X_train, y_train, X_test, y_test = load_CIFAR10(cifar10_dir)\n",
    "    \n",
    "    # subsample the data\n",
    "    mask = list(range(num_training, num_training + num_validation))\n",
    "    X_val = X_train[mask] # from training set \n",
    "    y_val = y_train[mask]\n",
    "    mask = list(range(num_training))\n",
    "    X_train = X_train[mask] # from training set\n",
    "    y_train = y_train[mask]\n",
    "    mask = list(range(num_test))\n",
    "    X_test = X_test[mask]\n",
    "    y_test = y_test[mask]\n",
    "    mask = np.random.choice(num_training, num_dev, replace=False) # replace=False: no repeat subsample\n",
    "    X_dev = X_train[mask] # mixed set\n",
    "    y_dev = y_train[mask]\n",
    "    \n",
    "    # Preprocessing: reshape the image data into rows\n",
    "    X_train = np.reshape(X_train, (X_train.shape[0], -1))\n",
    "    X_val = np.reshape(X_val, (X_val.shape[0], -1))\n",
    "    X_test = np.reshape(X_test, (X_test.shape[0], -1))\n",
    "    X_dev = np.reshape(X_dev, (X_dev.shape[0], -1))\n",
    "    \n",
    "    # Normalize the data: subtract the mean image\n",
    "    mean_image = np.mean(X_train, axis = 0) # columns mean\n",
    "    X_train -= mean_image\n",
    "    X_val -= mean_image\n",
    "    X_test -= mean_image\n",
    "    X_dev -= mean_image\n",
    "    \n",
    "    # add bias dimension and transform into columns\n",
    "    X_train = np.hstack([X_train, np.ones((X_train.shape[0], 1))])\n",
    "    X_val = np.hstack([X_val, np.ones((X_val.shape[0], 1))])\n",
    "    X_test = np.hstack([X_test, np.ones((X_test.shape[0], 1))])\n",
    "    X_dev = np.hstack([X_dev, np.ones((X_dev.shape[0], 1))])\n",
    "    \n",
    "    return X_train, y_train, X_val, y_val, X_test, y_test, X_dev, y_dev\n",
    "\n",
    "\n",
    "# Cleaning up variables to prevent loading data multiple times (which may cause memory issue)\n",
    "try:\n",
    "   del X_train, y_train\n",
    "   del X_test, y_test\n",
    "   print('Clear previously loaded data.')\n",
    "except:\n",
    "   pass\n",
    "\n",
    "# Invoke the above function to get our data.\n",
    "X_train, y_train, X_val, y_val, X_test, y_test, X_dev, y_dev = get_CIFAR10_data()\n",
    "print('Train data shape: ', X_train.shape)\n",
    "print('Train labels shape: ', y_train.shape)\n",
    "print('Validation data shape: ', X_val.shape)\n",
    "print('Validation labels shape: ', y_val.shape)\n",
    "print('Test data shape: ', X_test.shape)\n",
    "print('Test labels shape: ', y_test.shape)\n",
    "print('dev data shape: ', X_dev.shape)\n",
    "print('dev labels shape: ', y_dev.shape)"
   ]
  },
  {
   "cell_type": "markdown",
   "metadata": {},
   "source": [
    "## Softmax Classifier\n",
    "\n",
    "Your code for this section will all be written inside **cs231n/classifiers/softmax.py**. \n"
   ]
  },
  {
   "cell_type": "code",
   "execution_count": 3,
   "metadata": {},
   "outputs": [
    {
     "name": "stdout",
     "output_type": "stream",
     "text": [
      "loss: 2.319841\n",
      "sanity check: 2.302585\n"
     ]
    }
   ],
   "source": [
    "# First implement the naive softmax loss function with nested loops.\n",
    "# Open the file cs231n/classifiers/softmax.py and implement the\n",
    "# softmax_loss_naive function.\n",
    "\n",
    "from cs231n.classifiers.softmax import softmax_loss_naive\n",
    "import time\n",
    "\n",
    "# Generate a random softmax weight matrix and use it to compute the loss.\n",
    "W = np.random.randn(3073, 10) * 0.0001\n",
    "loss, grad = softmax_loss_naive(W, X_dev, y_dev, 0.0)\n",
    "\n",
    "# As a rough sanity check, our loss should be something close to -log(0.1).\n",
    "print('loss: %f' % loss)\n",
    "print('sanity check: %f' % (-np.log(0.1)))"
   ]
  },
  {
   "cell_type": "markdown",
   "metadata": {},
   "source": [
    "## Inline Question 1:\n",
    "Why do we expect our loss to be close to -log(0.1)? Explain briefly.**\n",
    "\n",
    "**Your answer:** Due to the definition of loss function, L=-log(probability), and we have 10 classes which means that the probability of correct prediction in random w&b is 0.1. Therefore, our loss will be close to -log(0.1)\n"
   ]
  },
  {
   "cell_type": "code",
   "execution_count": 4,
   "metadata": {},
   "outputs": [
    {
     "name": "stdout",
     "output_type": "stream",
     "text": [
      "numerical: 2.157769 analytic: 2.157769, relative error: 1.016884e-08\n",
      "numerical: 1.922357 analytic: 1.922357, relative error: 1.187070e-08\n",
      "numerical: 0.469111 analytic: 0.469111, relative error: 3.636170e-08\n",
      "numerical: 3.402499 analytic: 3.402499, relative error: 3.473487e-09\n",
      "numerical: -0.941442 analytic: -0.941442, relative error: 3.899935e-08\n",
      "numerical: -5.798706 analytic: -5.798706, relative error: 3.486625e-09\n",
      "numerical: -0.687132 analytic: -0.687132, relative error: 8.809436e-08\n",
      "numerical: -1.281173 analytic: -1.281173, relative error: 4.168525e-08\n",
      "numerical: 0.740603 analytic: 0.740603, relative error: 2.697783e-09\n",
      "numerical: -1.502697 analytic: -1.502697, relative error: 1.638812e-09\n",
      "numerical: -1.202365 analytic: -1.202365, relative error: 5.694199e-09\n",
      "numerical: 2.545669 analytic: 2.545668, relative error: 1.731641e-08\n",
      "numerical: 2.998705 analytic: 2.998705, relative error: 3.894712e-09\n",
      "numerical: -3.321457 analytic: -3.321457, relative error: 1.992391e-08\n",
      "numerical: -1.582862 analytic: -1.582862, relative error: 5.348507e-09\n",
      "numerical: -2.430263 analytic: -2.430263, relative error: 6.725059e-11\n",
      "numerical: 0.605392 analytic: 0.605392, relative error: 8.123693e-08\n",
      "numerical: 2.298462 analytic: 2.298462, relative error: 5.726073e-09\n",
      "numerical: 0.866201 analytic: 0.866200, relative error: 1.822217e-08\n",
      "numerical: -0.439293 analytic: -0.439293, relative error: 2.652362e-08\n"
     ]
    }
   ],
   "source": [
    "# Complete the implementation of softmax_loss_naive and implement a (naive)\n",
    "# version of the gradient that uses nested loops.\n",
    "loss, grad = softmax_loss_naive(W, X_dev, y_dev, 0.0)\n",
    "\n",
    "# As we did for the SVM, use numeric gradient checking as a debugging tool.\n",
    "# The numeric gradient should be close to the analytic gradient.\n",
    "from cs231n.gradient_check import grad_check_sparse\n",
    "f = lambda w: softmax_loss_naive(w, X_dev, y_dev, 0.0)[0]\n",
    "grad_numerical = grad_check_sparse(f, W, grad, 10)\n",
    "\n",
    "# similar to SVM case, do another gradient check with regularization\n",
    "loss, grad = softmax_loss_naive(W, X_dev, y_dev, 5e1)\n",
    "f = lambda w: softmax_loss_naive(w, X_dev, y_dev, 5e1)[0]\n",
    "grad_numerical = grad_check_sparse(f, W, grad, 10)"
   ]
  },
  {
   "cell_type": "code",
   "execution_count": 5,
   "metadata": {},
   "outputs": [
    {
     "name": "stdout",
     "output_type": "stream",
     "text": [
      "naive loss: 2.319841e+00 computed in 0.000000s\n",
      "vectorized loss: 2.319841e+00 computed in 0.015621s\n",
      "Loss difference: 0.000000\n",
      "Gradient difference: 0.000000\n"
     ]
    }
   ],
   "source": [
    "# Now that we have a naive implementation of the softmax loss function and its gradient,\n",
    "# implement a vectorized version in softmax_loss_vectorized.\n",
    "# The two versions should compute the same results, but the vectorized version should be\n",
    "# much faster.\n",
    "tic = time.time()\n",
    "loss_naive, grad_naive = softmax_loss_naive(W, X_dev, y_dev, 0.000005)\n",
    "toc = time.time()\n",
    "print('naive loss: %e computed in %fs' % (loss_naive, toc - tic))\n",
    "\n",
    "from cs231n.classifiers.softmax import softmax_loss_vectorized\n",
    "tic = time.time()\n",
    "loss_vectorized, grad_vectorized = softmax_loss_vectorized(W, X_dev, y_dev, 0.000005)\n",
    "toc = time.time()\n",
    "print('vectorized loss: %e computed in %fs' % (loss_vectorized, toc - tic))\n",
    "\n",
    "\n",
    "# As we did for the SVM, we use the Frobenius norm to compare the two versions\n",
    "# of the gradient.\n",
    "grad_difference = np.linalg.norm(grad_naive - grad_vectorized, ord='fro')\n",
    "print('Loss difference: %f' % np.abs(loss_naive - loss_vectorized))\n",
    "print('Gradient difference: %f' % grad_difference)"
   ]
  },
  {
   "cell_type": "code",
   "execution_count": 33,
   "metadata": {
    "scrolled": true
   },
   "outputs": [
    {
     "name": "stdout",
     "output_type": "stream",
     "text": [
      "num_lr:0  num_reg:0\n",
      "val_accuracy: 0.347000\n",
      "num_lr:0  num_reg:1\n",
      "val_accuracy: 0.360000\n",
      "num_lr:0  num_reg:2\n",
      "num_lr:0  num_reg:3\n",
      "val_accuracy: 0.367000\n",
      "num_lr:0  num_reg:4\n",
      "num_lr:0  num_reg:5\n",
      "num_lr:0  num_reg:6\n",
      "num_lr:0  num_reg:7\n",
      "num_lr:0  num_reg:8\n",
      "num_lr:0  num_reg:9\n",
      "num_lr:1  num_reg:0\n",
      "num_lr:1  num_reg:1\n",
      "num_lr:1  num_reg:2\n",
      "num_lr:1  num_reg:3\n",
      "num_lr:1  num_reg:4\n",
      "num_lr:1  num_reg:5\n",
      "num_lr:1  num_reg:6\n",
      "num_lr:1  num_reg:7\n",
      "num_lr:1  num_reg:8\n",
      "num_lr:1  num_reg:9\n",
      "num_lr:2  num_reg:0\n",
      "num_lr:2  num_reg:1\n",
      "num_lr:2  num_reg:2\n",
      "num_lr:2  num_reg:3\n",
      "num_lr:2  num_reg:4\n",
      "num_lr:2  num_reg:5\n",
      "num_lr:2  num_reg:6\n",
      "num_lr:2  num_reg:7\n",
      "num_lr:2  num_reg:8\n",
      "num_lr:2  num_reg:9\n",
      "num_lr:3  num_reg:0\n",
      "num_lr:3  num_reg:1\n",
      "num_lr:3  num_reg:2\n",
      "num_lr:3  num_reg:3\n",
      "num_lr:3  num_reg:4\n",
      "num_lr:3  num_reg:5\n",
      "num_lr:3  num_reg:6\n",
      "num_lr:3  num_reg:7\n",
      "num_lr:3  num_reg:8\n",
      "num_lr:3  num_reg:9\n",
      "num_lr:4  num_reg:0\n",
      "num_lr:4  num_reg:1\n",
      "num_lr:4  num_reg:2\n",
      "num_lr:4  num_reg:3\n",
      "num_lr:4  num_reg:4\n",
      "num_lr:4  num_reg:5\n",
      "num_lr:4  num_reg:6\n",
      "num_lr:4  num_reg:7\n",
      "num_lr:4  num_reg:8\n",
      "num_lr:4  num_reg:9\n",
      "lr 8.000000e-07 reg 2.500000e+04 train accuracy: 0.340510 val accuracy: 0.344000\n",
      "lr 8.800000e-07 reg 2.550000e+04 train accuracy: 0.344327 val accuracy: 0.352000\n",
      "lr 9.600000e-07 reg 2.600000e+04 train accuracy: 0.343449 val accuracy: 0.361000\n",
      "lr 1.040000e-06 reg 2.650000e+04 train accuracy: 0.345571 val accuracy: 0.351000\n",
      "lr 1.120000e-06 reg 2.700000e+04 train accuracy: 0.336388 val accuracy: 0.353000\n",
      "best validation accuracy achieved during cross-validation: 0.367000\n"
     ]
    }
   ],
   "source": [
    "# Use the validation set to tune hyperparameters (regularization strength and\n",
    "# learning rate). You should experiment with different ranges for the learning\n",
    "# rates and regularization strengths; if you are careful you should be able to\n",
    "# get a classification accuracy of over 0.35 on the validation set.\n",
    "from cs231n.classifiers import Softmax\n",
    "results = {}\n",
    "best_val = -1\n",
    "best_softmax = None\n",
    "learning_rates = [8e-7, 1.2e-6]\n",
    "regularization_strengths = [2.5e4, 3e4]\n",
    "\n",
    "################################################################################\n",
    "# TODO:                                                                        #\n",
    "# Use the validation set to set the learning rate and regularization strength. #\n",
    "# This should be identical to the validation that you did for the SVM; save    #\n",
    "# the best trained softmax classifer in best_softmax.                          #\n",
    "################################################################################\n",
    "num_lr = 5\n",
    "num_reg = 10\n",
    "\n",
    "for i in range(num_lr): # try different lr&reg, use val to check the best solution.\n",
    "    for j in range(num_reg):\n",
    "        print('num_lr:%d  num_reg:%d'%(i ,j))\n",
    "        lr = learning_rates[0] + i * (learning_rates[1]-learning_rates[0])/num_lr\n",
    "        reg = regularization_strengths[0] + i * (regularization_strengths[1]-regularization_strengths[0])/num_reg\n",
    "        softmax = Softmax()\n",
    "        loss_history = softmax.train(X_train, y_train, learning_rate=lr, reg=reg, num_iters=300)\n",
    "        train_pred = softmax.predict(X_train)\n",
    "        accuracy_train = np.mean(y_train == train_pred)\n",
    "        val_pred = softmax.predict(X_val)\n",
    "        accuracy_val = np.mean(y_val == val_pred)\n",
    "        results[(lr, reg)] =  (accuracy_train, accuracy_val)\n",
    "        \n",
    "        if accuracy_val > best_val:\n",
    "            best_val = accuracy_val\n",
    "            best_softmax = softmax\n",
    "            print('val_accuracy: %f' % accuracy_val)\n",
    "\n",
    "################################################################################\n",
    "#                              END OF YOUR CODE                                #\n",
    "################################################################################\n",
    "    \n",
    "# Print out results.\n",
    "for lr, reg in sorted(results):\n",
    "    train_accuracy, val_accuracy = results[(lr, reg)]\n",
    "    print('lr %e reg %e train accuracy: %f val accuracy: %f' % (\n",
    "                lr, reg, train_accuracy, val_accuracy))\n",
    "    \n",
    "print('best validation accuracy achieved during cross-validation: %f' % best_val)"
   ]
  },
  {
   "cell_type": "code",
   "execution_count": 34,
   "metadata": {},
   "outputs": [
    {
     "name": "stdout",
     "output_type": "stream",
     "text": [
      "softmax on raw pixels final test set accuracy: 0.354000\n"
     ]
    }
   ],
   "source": [
    "# evaluate on test set\n",
    "# Evaluate the best softmax on test set\n",
    "y_test_pred = best_softmax.predict(X_test)\n",
    "test_accuracy = np.mean(y_test == y_test_pred)\n",
    "print('softmax on raw pixels final test set accuracy: %f' % (test_accuracy, ))"
   ]
  },
  {
   "cell_type": "markdown",
   "metadata": {},
   "source": [
    "**Inline Question** - *True or False*\n",
    "\n",
    "It's possible to add a new data point to a training set that would leave the SVM loss unchanged, but this is not the case with the Softmax classifier loss.\n",
    "\n",
    "*Your answer*: True\n",
    "\n",
    "*Your explanation*: If the new data point is out of the range of the SVM's classes, the SVM loss will not be changed. But if this data point is a extremely special point, the Softmax classifier loss will be changed."
   ]
  },
  {
   "cell_type": "code",
   "execution_count": 35,
   "metadata": {},
   "outputs": [
    {
     "data": {
      "image/png": "[encoded data removed]",
      "text/plain": [
       "<Figure size 432x288 with 10 Axes>"
      ]
     },
     "metadata": {
      "needs_background": "light"
     },
     "output_type": "display_data"
    }
   ],
   "source": [
    "# Visualize the learned weights for each class\n",
    "w = best_softmax.W[:-1,:] # strip out the bias\n",
    "w = w.reshape(32, 32, 3, 10)\n",
    "\n",
    "w_min, w_max = np.min(w), np.max(w)\n",
    "\n",
    "classes = ['plane', 'car', 'bird', 'cat', 'deer', 'dog', 'frog', 'horse', 'ship', 'truck']\n",
    "for i in range(10):\n",
    "    plt.subplot(2, 5, i + 1)\n",
    "    \n",
    "    # Rescale the weights to be between 0 and 255\n",
    "    wimg = 255.0 * (w[:, :, :, i].squeeze() - w_min) / (w_max - w_min)\n",
    "    plt.imshow(wimg.astype('uint8'))\n",
    "    plt.axis('off')\n",
    "    plt.title(classes[i])"
   ]
  },
  {
   "cell_type": "code",
   "execution_count": null,
   "metadata": {},
   "outputs": [],
   "source": []
  },
  {
   "cell_type": "code",
   "execution_count": null,
   "metadata": {},
   "outputs": [],
   "source": []
  }
 ],
 "metadata": {
  "kernelspec": {
   "display_name": "Python 3",
   "language": "python",
   "name": "python3"
  },
  "language_info": {
   "codemirror_mode": {
    "name": "ipython",
    "version": 3
   },
   "file_extension": ".py",
   "mimetype": "text/x-python",
   "name": "python",
   "nbconvert_exporter": "python",
   "pygments_lexer": "ipython3",
   "version": "3.7.4"
  }
 },
 "nbformat": 4,
 "nbformat_minor": 1
}
